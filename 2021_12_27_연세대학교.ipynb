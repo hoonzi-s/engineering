{
  "nbformat": 4,
  "nbformat_minor": 0,
  "metadata": {
    "colab": {
      "name": "2021-12-27-연세대학교.ipynb",
      "provenance": []
    },
    "kernelspec": {
      "name": "python3",
      "display_name": "Python 3"
    },
    "language_info": {
      "name": "python"
    }
  },
  "cells": [
    {
      "cell_type": "code",
      "execution_count": 1,
      "metadata": {
        "colab": {
          "base_uri": "https://localhost:8080/"
        },
        "id": "zZqvB50UZ7VZ",
        "outputId": "6463a8e2-6aeb-4c61-cd3a-2e5469a1990f"
      },
      "outputs": [
        {
          "output_type": "stream",
          "name": "stdout",
          "text": [
            "Downloading data from https://storage.googleapis.com/tensorflow/tf-keras-datasets/train-labels-idx1-ubyte.gz\n",
            "32768/29515 [=================================] - 0s 0us/step\n",
            "40960/29515 [=========================================] - 0s 0us/step\n",
            "Downloading data from https://storage.googleapis.com/tensorflow/tf-keras-datasets/train-images-idx3-ubyte.gz\n",
            "26427392/26421880 [==============================] - 1s 0us/step\n",
            "26435584/26421880 [==============================] - 1s 0us/step\n",
            "Downloading data from https://storage.googleapis.com/tensorflow/tf-keras-datasets/t10k-labels-idx1-ubyte.gz\n",
            "16384/5148 [===============================================================================================] - 0s 0us/step\n",
            "Downloading data from https://storage.googleapis.com/tensorflow/tf-keras-datasets/t10k-images-idx3-ubyte.gz\n",
            "4423680/4422102 [==============================] - 0s 0us/step\n",
            "4431872/4422102 [==============================] - 0s 0us/step\n"
          ]
        }
      ],
      "source": [
        "from tensorflow import keras\n",
        "\n",
        "(train_input, train_target), (test_input, test_target) = keras.datasets.fashion_mnist.load_data()"
      ]
    },
    {
      "cell_type": "code",
      "source": [
        "train_input.shape"
      ],
      "metadata": {
        "colab": {
          "base_uri": "https://localhost:8080/"
        },
        "id": "t2C7Wr66bRG_",
        "outputId": "fbcb59d3-152d-4420-f610-bf4735a146d2"
      },
      "execution_count": 2,
      "outputs": [
        {
          "output_type": "execute_result",
          "data": {
            "text/plain": [
              "(60000, 28, 28)"
            ]
          },
          "metadata": {},
          "execution_count": 2
        }
      ]
    },
    {
      "cell_type": "code",
      "source": [
        "test_input.shape"
      ],
      "metadata": {
        "colab": {
          "base_uri": "https://localhost:8080/"
        },
        "id": "DSLpM_EGbaxv",
        "outputId": "575fd672-a872-4a42-87d8-edd5fb3700d9"
      },
      "execution_count": 3,
      "outputs": [
        {
          "output_type": "execute_result",
          "data": {
            "text/plain": [
              "(10000, 28, 28)"
            ]
          },
          "metadata": {},
          "execution_count": 3
        }
      ]
    },
    {
      "cell_type": "code",
      "source": [
        "train_input[0]"
      ],
      "metadata": {
        "colab": {
          "base_uri": "https://localhost:8080/"
        },
        "id": "zkO6Xj7oben_",
        "outputId": "d187254b-374d-4fcb-afbe-2831b42f09c7"
      },
      "execution_count": 4,
      "outputs": [
        {
          "output_type": "execute_result",
          "data": {
            "text/plain": [
              "array([[  0,   0,   0,   0,   0,   0,   0,   0,   0,   0,   0,   0,   0,\n",
              "          0,   0,   0,   0,   0,   0,   0,   0,   0,   0,   0,   0,   0,\n",
              "          0,   0],\n",
              "       [  0,   0,   0,   0,   0,   0,   0,   0,   0,   0,   0,   0,   0,\n",
              "          0,   0,   0,   0,   0,   0,   0,   0,   0,   0,   0,   0,   0,\n",
              "          0,   0],\n",
              "       [  0,   0,   0,   0,   0,   0,   0,   0,   0,   0,   0,   0,   0,\n",
              "          0,   0,   0,   0,   0,   0,   0,   0,   0,   0,   0,   0,   0,\n",
              "          0,   0],\n",
              "       [  0,   0,   0,   0,   0,   0,   0,   0,   0,   0,   0,   0,   1,\n",
              "          0,   0,  13,  73,   0,   0,   1,   4,   0,   0,   0,   0,   1,\n",
              "          1,   0],\n",
              "       [  0,   0,   0,   0,   0,   0,   0,   0,   0,   0,   0,   0,   3,\n",
              "          0,  36, 136, 127,  62,  54,   0,   0,   0,   1,   3,   4,   0,\n",
              "          0,   3],\n",
              "       [  0,   0,   0,   0,   0,   0,   0,   0,   0,   0,   0,   0,   6,\n",
              "          0, 102, 204, 176, 134, 144, 123,  23,   0,   0,   0,   0,  12,\n",
              "         10,   0],\n",
              "       [  0,   0,   0,   0,   0,   0,   0,   0,   0,   0,   0,   0,   0,\n",
              "          0, 155, 236, 207, 178, 107, 156, 161, 109,  64,  23,  77, 130,\n",
              "         72,  15],\n",
              "       [  0,   0,   0,   0,   0,   0,   0,   0,   0,   0,   0,   1,   0,\n",
              "         69, 207, 223, 218, 216, 216, 163, 127, 121, 122, 146, 141,  88,\n",
              "        172,  66],\n",
              "       [  0,   0,   0,   0,   0,   0,   0,   0,   0,   1,   1,   1,   0,\n",
              "        200, 232, 232, 233, 229, 223, 223, 215, 213, 164, 127, 123, 196,\n",
              "        229,   0],\n",
              "       [  0,   0,   0,   0,   0,   0,   0,   0,   0,   0,   0,   0,   0,\n",
              "        183, 225, 216, 223, 228, 235, 227, 224, 222, 224, 221, 223, 245,\n",
              "        173,   0],\n",
              "       [  0,   0,   0,   0,   0,   0,   0,   0,   0,   0,   0,   0,   0,\n",
              "        193, 228, 218, 213, 198, 180, 212, 210, 211, 213, 223, 220, 243,\n",
              "        202,   0],\n",
              "       [  0,   0,   0,   0,   0,   0,   0,   0,   0,   1,   3,   0,  12,\n",
              "        219, 220, 212, 218, 192, 169, 227, 208, 218, 224, 212, 226, 197,\n",
              "        209,  52],\n",
              "       [  0,   0,   0,   0,   0,   0,   0,   0,   0,   0,   6,   0,  99,\n",
              "        244, 222, 220, 218, 203, 198, 221, 215, 213, 222, 220, 245, 119,\n",
              "        167,  56],\n",
              "       [  0,   0,   0,   0,   0,   0,   0,   0,   0,   4,   0,   0,  55,\n",
              "        236, 228, 230, 228, 240, 232, 213, 218, 223, 234, 217, 217, 209,\n",
              "         92,   0],\n",
              "       [  0,   0,   1,   4,   6,   7,   2,   0,   0,   0,   0,   0, 237,\n",
              "        226, 217, 223, 222, 219, 222, 221, 216, 223, 229, 215, 218, 255,\n",
              "         77,   0],\n",
              "       [  0,   3,   0,   0,   0,   0,   0,   0,   0,  62, 145, 204, 228,\n",
              "        207, 213, 221, 218, 208, 211, 218, 224, 223, 219, 215, 224, 244,\n",
              "        159,   0],\n",
              "       [  0,   0,   0,   0,  18,  44,  82, 107, 189, 228, 220, 222, 217,\n",
              "        226, 200, 205, 211, 230, 224, 234, 176, 188, 250, 248, 233, 238,\n",
              "        215,   0],\n",
              "       [  0,  57, 187, 208, 224, 221, 224, 208, 204, 214, 208, 209, 200,\n",
              "        159, 245, 193, 206, 223, 255, 255, 221, 234, 221, 211, 220, 232,\n",
              "        246,   0],\n",
              "       [  3, 202, 228, 224, 221, 211, 211, 214, 205, 205, 205, 220, 240,\n",
              "         80, 150, 255, 229, 221, 188, 154, 191, 210, 204, 209, 222, 228,\n",
              "        225,   0],\n",
              "       [ 98, 233, 198, 210, 222, 229, 229, 234, 249, 220, 194, 215, 217,\n",
              "        241,  65,  73, 106, 117, 168, 219, 221, 215, 217, 223, 223, 224,\n",
              "        229,  29],\n",
              "       [ 75, 204, 212, 204, 193, 205, 211, 225, 216, 185, 197, 206, 198,\n",
              "        213, 240, 195, 227, 245, 239, 223, 218, 212, 209, 222, 220, 221,\n",
              "        230,  67],\n",
              "       [ 48, 203, 183, 194, 213, 197, 185, 190, 194, 192, 202, 214, 219,\n",
              "        221, 220, 236, 225, 216, 199, 206, 186, 181, 177, 172, 181, 205,\n",
              "        206, 115],\n",
              "       [  0, 122, 219, 193, 179, 171, 183, 196, 204, 210, 213, 207, 211,\n",
              "        210, 200, 196, 194, 191, 195, 191, 198, 192, 176, 156, 167, 177,\n",
              "        210,  92],\n",
              "       [  0,   0,  74, 189, 212, 191, 175, 172, 175, 181, 185, 188, 189,\n",
              "        188, 193, 198, 204, 209, 210, 210, 211, 188, 188, 194, 192, 216,\n",
              "        170,   0],\n",
              "       [  2,   0,   0,   0,  66, 200, 222, 237, 239, 242, 246, 243, 244,\n",
              "        221, 220, 193, 191, 179, 182, 182, 181, 176, 166, 168,  99,  58,\n",
              "          0,   0],\n",
              "       [  0,   0,   0,   0,   0,   0,   0,  40,  61,  44,  72,  41,  35,\n",
              "          0,   0,   0,   0,   0,   0,   0,   0,   0,   0,   0,   0,   0,\n",
              "          0,   0],\n",
              "       [  0,   0,   0,   0,   0,   0,   0,   0,   0,   0,   0,   0,   0,\n",
              "          0,   0,   0,   0,   0,   0,   0,   0,   0,   0,   0,   0,   0,\n",
              "          0,   0],\n",
              "       [  0,   0,   0,   0,   0,   0,   0,   0,   0,   0,   0,   0,   0,\n",
              "          0,   0,   0,   0,   0,   0,   0,   0,   0,   0,   0,   0,   0,\n",
              "          0,   0]], dtype=uint8)"
            ]
          },
          "metadata": {},
          "execution_count": 4
        }
      ]
    },
    {
      "cell_type": "code",
      "source": [
        "train_target[0]"
      ],
      "metadata": {
        "colab": {
          "base_uri": "https://localhost:8080/"
        },
        "id": "qAAgzMiRbhdl",
        "outputId": "c16cd7bf-5d11-464f-e7f9-43cbf7c26aa3"
      },
      "execution_count": 5,
      "outputs": [
        {
          "output_type": "execute_result",
          "data": {
            "text/plain": [
              "9"
            ]
          },
          "metadata": {},
          "execution_count": 5
        }
      ]
    },
    {
      "cell_type": "code",
      "source": [
        "import numpy as np"
      ],
      "metadata": {
        "id": "hvB3LKpdbquC"
      },
      "execution_count": 2,
      "outputs": []
    },
    {
      "cell_type": "code",
      "source": [
        "import tensorflow as tf"
      ],
      "metadata": {
        "id": "kUVUcvzMb7S-"
      },
      "execution_count": 3,
      "outputs": []
    },
    {
      "cell_type": "code",
      "source": [
        "from sklearn.model_selection import train_test_split"
      ],
      "metadata": {
        "id": "edhzv1E8cGlo"
      },
      "execution_count": 4,
      "outputs": []
    },
    {
      "cell_type": "code",
      "source": [
        "(train_input, train_target), (test_input, test_target) = keras.datasets.fashion_mnist.load_data()\n",
        "\n",
        "train_scaled = train_input.reshape(-1, 784) / 255\n",
        "test_scaled = test_input.reshape(-1, 784) / 255\n",
        "\n",
        "train_scaled, val_scaled, train_target, val_target = train_test_split(train_scaled, train_target, test_size = 0.2)\n",
        "\n",
        "dense1 = keras.layers.Dense(100, activation = 'relu', input_shape = (784,))\n",
        "dense2 = keras.layers.Dense(10, activation = 'softmax')\n",
        "\n",
        "model = keras.Sequential([dense1, dense2])\n",
        "model.compile(loss = 'sparse_categorical_crossentropy', metrics = 'accuracy', optimizer = 'adam')\n",
        "\n",
        "history = model.fit(train_scaled, train_target, epochs = 20, validation_data=(val_scaled, val_target))"
      ],
      "metadata": {
        "colab": {
          "base_uri": "https://localhost:8080/"
        },
        "id": "1EYc41GKcMdd",
        "outputId": "c5127f23-b166-4ccd-8e83-e1b2f9349050"
      },
      "execution_count": 67,
      "outputs": [
        {
          "output_type": "stream",
          "name": "stdout",
          "text": [
            "Epoch 1/20\n",
            "1500/1500 [==============================] - 4s 2ms/step - loss: 0.5325 - accuracy: 0.8144 - val_loss: 0.4396 - val_accuracy: 0.8458\n",
            "Epoch 2/20\n",
            "1500/1500 [==============================] - 3s 2ms/step - loss: 0.3958 - accuracy: 0.8575 - val_loss: 0.4083 - val_accuracy: 0.8494\n",
            "Epoch 3/20\n",
            "1500/1500 [==============================] - 4s 2ms/step - loss: 0.3544 - accuracy: 0.8734 - val_loss: 0.3639 - val_accuracy: 0.8673\n",
            "Epoch 4/20\n",
            "1500/1500 [==============================] - 4s 3ms/step - loss: 0.3291 - accuracy: 0.8807 - val_loss: 0.3492 - val_accuracy: 0.8700\n",
            "Epoch 5/20\n",
            "1500/1500 [==============================] - 3s 2ms/step - loss: 0.3116 - accuracy: 0.8849 - val_loss: 0.3332 - val_accuracy: 0.8787\n",
            "Epoch 6/20\n",
            "1500/1500 [==============================] - 3s 2ms/step - loss: 0.2939 - accuracy: 0.8915 - val_loss: 0.3371 - val_accuracy: 0.8757\n",
            "Epoch 7/20\n",
            "1500/1500 [==============================] - 3s 2ms/step - loss: 0.2828 - accuracy: 0.8957 - val_loss: 0.3187 - val_accuracy: 0.8791\n",
            "Epoch 8/20\n",
            "1500/1500 [==============================] - 3s 2ms/step - loss: 0.2711 - accuracy: 0.9001 - val_loss: 0.3110 - val_accuracy: 0.8824\n",
            "Epoch 9/20\n",
            "1500/1500 [==============================] - 3s 2ms/step - loss: 0.2604 - accuracy: 0.9046 - val_loss: 0.3322 - val_accuracy: 0.8784\n",
            "Epoch 10/20\n",
            "1500/1500 [==============================] - 3s 2ms/step - loss: 0.2510 - accuracy: 0.9072 - val_loss: 0.3167 - val_accuracy: 0.8841\n",
            "Epoch 11/20\n",
            "1500/1500 [==============================] - 3s 2ms/step - loss: 0.2448 - accuracy: 0.9090 - val_loss: 0.3113 - val_accuracy: 0.8883\n",
            "Epoch 12/20\n",
            "1500/1500 [==============================] - 3s 2ms/step - loss: 0.2339 - accuracy: 0.9135 - val_loss: 0.3230 - val_accuracy: 0.8846\n",
            "Epoch 13/20\n",
            "1500/1500 [==============================] - 3s 2ms/step - loss: 0.2294 - accuracy: 0.9145 - val_loss: 0.3336 - val_accuracy: 0.8827\n",
            "Epoch 14/20\n",
            "1500/1500 [==============================] - 3s 2ms/step - loss: 0.2234 - accuracy: 0.9166 - val_loss: 0.3566 - val_accuracy: 0.8769\n",
            "Epoch 15/20\n",
            "1500/1500 [==============================] - 3s 2ms/step - loss: 0.2129 - accuracy: 0.9214 - val_loss: 0.3230 - val_accuracy: 0.8832\n",
            "Epoch 16/20\n",
            "1500/1500 [==============================] - 3s 2ms/step - loss: 0.2095 - accuracy: 0.9220 - val_loss: 0.3165 - val_accuracy: 0.8880\n",
            "Epoch 17/20\n",
            "1500/1500 [==============================] - 3s 2ms/step - loss: 0.2048 - accuracy: 0.9228 - val_loss: 0.3223 - val_accuracy: 0.8859\n",
            "Epoch 18/20\n",
            "1500/1500 [==============================] - 3s 2ms/step - loss: 0.1981 - accuracy: 0.9254 - val_loss: 0.3608 - val_accuracy: 0.8813\n",
            "Epoch 19/20\n",
            "1500/1500 [==============================] - 3s 2ms/step - loss: 0.1924 - accuracy: 0.9282 - val_loss: 0.3535 - val_accuracy: 0.8800\n",
            "Epoch 20/20\n",
            "1500/1500 [==============================] - 3s 2ms/step - loss: 0.1876 - accuracy: 0.9302 - val_loss: 0.3484 - val_accuracy: 0.8796\n"
          ]
        }
      ]
    },
    {
      "cell_type": "code",
      "source": [
        "import matplotlib.pyplot as plt\n",
        "\n",
        "plt.plot(history.history['loss'])\n",
        "plt.plot(history.history['val_loss'])"
      ],
      "metadata": {
        "colab": {
          "base_uri": "https://localhost:8080/",
          "height": 284
        },
        "id": "AWD69R1Sf3-w",
        "outputId": "c0b0cda3-4b87-476b-d23c-fd18169d253c"
      },
      "execution_count": 68,
      "outputs": [
        {
          "output_type": "execute_result",
          "data": {
            "text/plain": [
              "[<matplotlib.lines.Line2D at 0x7f4a1c721a90>]"
            ]
          },
          "metadata": {},
          "execution_count": 68
        },
        {
          "output_type": "display_data",
          "data": {
            "image/png": "[encoded data removed]",
            "text/plain": [
              "<Figure size 432x288 with 1 Axes>"
            ]
          },
          "metadata": {
            "needs_background": "light"
          }
        }
      ]
    },
    {
      "cell_type": "code",
      "source": [
        "model.evaluate(val_scaled, val_target)"
      ],
      "metadata": {
        "colab": {
          "base_uri": "https://localhost:8080/"
        },
        "id": "V59srLTviRof",
        "outputId": "b8c25609-2942-43ce-8cb6-b6972ff2f408"
      },
      "execution_count": 69,
      "outputs": [
        {
          "output_type": "stream",
          "name": "stdout",
          "text": [
            "375/375 [==============================] - 1s 1ms/step - loss: 0.3484 - accuracy: 0.8796\n"
          ]
        },
        {
          "output_type": "execute_result",
          "data": {
            "text/plain": [
              "[0.3484422266483307, 0.8795833587646484]"
            ]
          },
          "metadata": {},
          "execution_count": 69
        }
      ]
    },
    {
      "cell_type": "code",
      "source": [
        "model.evaluate(train_scaled, train_target)"
      ],
      "metadata": {
        "colab": {
          "base_uri": "https://localhost:8080/"
        },
        "id": "i_qymwCeie04",
        "outputId": "cbe360ab-872a-4c84-c8ba-19fc7534b3c6"
      },
      "execution_count": 70,
      "outputs": [
        {
          "output_type": "stream",
          "name": "stdout",
          "text": [
            "1500/1500 [==============================] - 2s 1ms/step - loss: 0.1857 - accuracy: 0.9291\n"
          ]
        },
        {
          "output_type": "execute_result",
          "data": {
            "text/plain": [
              "[0.185709148645401, 0.9291041493415833]"
            ]
          },
          "metadata": {},
          "execution_count": 70
        }
      ]
    },
    {
      "cell_type": "code",
      "source": [
        "# 시험데이터 정확도가 훈련데이터보다 더 높게 나왔을때\n",
        "# 둘다 낮을때\n",
        "\n",
        "(train_input, train_target), (test_input, test_target) = keras.datasets.fashion_mnist.load_data()\n",
        "\n",
        "train_scaled = train_input / 255\n",
        "test_scaled = test_input / 255\n",
        "\n",
        "train_scaled, val_scaled, train_target, val_target = train_test_split(train_scaled, train_target, test_size = 0.2)\n",
        "\n",
        "model = keras.Sequential()\n",
        "model.add(keras.layers.Flatten(input_shape = (28, 28)))\n",
        "model.add(keras.layers.Dense(100, activation = 'relu'))\n",
        "model.add(keras.layers.Dropout(0.4)) # 속도 빨라지고, 과대적합 막아준다.\n",
        "model.add(keras.layers.Dense(10, activation = 'softmax'))\n",
        "\n",
        "checkpoint = keras.callbacks.ModelCheckpoint('best.h5')\n",
        "early_stopping = keras.callbacks.EarlyStopping(patience=5, restore_best_weights=True)\n",
        "\n",
        "model.compile(loss = 'sparse_categorical_crossentropy', metrics = 'accuracy', optimizer = 'adam')\n",
        "\n",
        "history = model.fit(train_scaled, train_target, epochs = 1000, validation_data=(val_scaled, val_target), callbacks = [checkpoint, early_stopping])"
      ],
      "metadata": {
        "colab": {
          "base_uri": "https://localhost:8080/"
        },
        "id": "L9EiQYQzinMa",
        "outputId": "e84d91d6-9fac-4cd4-9247-fe466557bb48"
      },
      "execution_count": null,
      "outputs": [
        {
          "output_type": "stream",
          "name": "stdout",
          "text": [
            "Epoch 1/1000\n",
            "1500/1500 [==============================] - 4s 2ms/step - loss: 0.6353 - accuracy: 0.7776 - val_loss: 0.4320 - val_accuracy: 0.8447\n",
            "Epoch 2/1000\n",
            "1500/1500 [==============================] - 3s 2ms/step - loss: 0.4697 - accuracy: 0.8323 - val_loss: 0.4044 - val_accuracy: 0.8494\n",
            "Epoch 3/1000\n",
            "1500/1500 [==============================] - 4s 2ms/step - loss: 0.4325 - accuracy: 0.8435 - val_loss: 0.3712 - val_accuracy: 0.8624\n",
            "Epoch 4/1000\n",
            "1500/1500 [==============================] - 3s 2ms/step - loss: 0.4145 - accuracy: 0.8501 - val_loss: 0.3721 - val_accuracy: 0.8662\n",
            "Epoch 5/1000\n",
            "1500/1500 [==============================] - 3s 2ms/step - loss: 0.3972 - accuracy: 0.8547 - val_loss: 0.3599 - val_accuracy: 0.8683\n",
            "Epoch 6/1000\n",
            "1500/1500 [==============================] - 4s 2ms/step - loss: 0.3891 - accuracy: 0.8575 - val_loss: 0.3646 - val_accuracy: 0.8681\n",
            "Epoch 7/1000\n",
            "1500/1500 [==============================] - 3s 2ms/step - loss: 0.3783 - accuracy: 0.8616 - val_loss: 0.3400 - val_accuracy: 0.8779\n",
            "Epoch 8/1000\n",
            "1500/1500 [==============================] - 3s 2ms/step - loss: 0.3667 - accuracy: 0.8633 - val_loss: 0.3481 - val_accuracy: 0.8752\n",
            "Epoch 9/1000\n",
            "1164/1500 [======================>.......] - ETA: 0s - loss: 0.3597 - accuracy: 0.8680"
          ]
        }
      ]
    },
    {
      "cell_type": "code",
      "source": [
        "model.summary()"
      ],
      "metadata": {
        "id": "ZOr2a47ivvaz"
      },
      "execution_count": null,
      "outputs": []
    },
    {
      "cell_type": "code",
      "source": [
        "plt.plot(history.history['loss'])\n",
        "plt.plot(history.history['val_loss'])"
      ],
      "metadata": {
        "id": "vlWb0VR9EqBO"
      },
      "execution_count": null,
      "outputs": []
    },
    {
      "cell_type": "code",
      "source": [
        "model.save('model.h5')"
      ],
      "metadata": {
        "id": "-jH8I8qrwAU-"
      },
      "execution_count": 85,
      "outputs": []
    },
    {
      "cell_type": "code",
      "source": [
        "model2 = keras.models.load_model('model.h5')\n",
        "model2.evaluate(val_scaled, val_target)"
      ],
      "metadata": {
        "colab": {
          "base_uri": "https://localhost:8080/"
        },
        "id": "ZtE3jTMEIacj",
        "outputId": "c6f9561e-b9a2-4f19-ed41-2487d8b59f79"
      },
      "execution_count": 86,
      "outputs": [
        {
          "output_type": "stream",
          "name": "stdout",
          "text": [
            "375/375 [==============================] - 1s 2ms/step - loss: 0.3417 - accuracy: 0.8797\n"
          ]
        },
        {
          "output_type": "execute_result",
          "data": {
            "text/plain": [
              "[0.34173113107681274, 0.8796666860580444]"
            ]
          },
          "metadata": {},
          "execution_count": 86
        }
      ]
    },
    {
      "cell_type": "code",
      "source": [
        "# 인공신경망 딥러닝 구현\n",
        "# CNN : 이미지를 위한 딥러닝 : 이미지의 특징을 학습하는 인공신경망\n",
        "\n",
        "#from tensorflow import keras\n",
        "\n",
        "(train_input, train_target), (test_input, test_target) = keras.datasets.fashion_mnist.load_data()\n",
        "\n",
        "# 이미지가 흑백인지, 칼라인지\n",
        "train_scaled = train_input.reshape(-1, 28, 28, 1) / 255\n",
        "test_scaled = test_input.reshape(-1, 28, 28, 1) / 255\n",
        "\n",
        "train_scaled, val_scaled, train_target, val_target = train_test_split(train_scaled, train_target, test_size = 0.2)\n",
        "\n",
        "model = keras.Sequential()\n",
        "model.add(keras.layers.Conv2D(32, kernel_size = (3, 3), activation = 'relu', padding = 'same', input_shape = (28, 28, 1)))\n",
        "model.add(keras.layers.MaxPooling2D(2))\n",
        "model.add(keras.layers.Conv2D(64, kernel_size = (3, 3), activation = 'relu', padding = 'same'))\n",
        "model.add(keras.layers.MaxPooling2D(2))\n",
        "\n",
        "model.add(keras.layers.Flatten())\n",
        "model.add(keras.layers.Dense(100, activation = 'relu'))\n",
        "model.add(keras.layers.Dropout(0.4))\n",
        "model.add(keras.layers.Dense(10, activation = 'softmax'))\n",
        "\n",
        "checkpoint = keras.callbacks.ModelCheckpoint('best.h5')\n",
        "early_stopping = keras.callbacks.EarlyStopping(patience=5, restore_best_weights=True)\n",
        "\n",
        "model.compile(loss = 'sparse_categorical_crossentropy', metrics = 'accuracy', optimizer = 'adam')\n",
        "\n",
        "# 2080Ti -> 20배\n",
        "history = model.fit(train_scaled, train_target, epochs = 1000, validation_data=(val_scaled, val_target), callbacks = [checkpoint, early_stopping])"
      ],
      "metadata": {
        "colab": {
          "base_uri": "https://localhost:8080/"
        },
        "id": "nuNWVxVoIyxT",
        "outputId": "a6892b0f-878e-4bf9-9bce-141f4287d539"
      },
      "execution_count": 5,
      "outputs": [
        {
          "output_type": "stream",
          "name": "stdout",
          "text": [
            "Epoch 1/1000\n",
            "1500/1500 [==============================] - 67s 43ms/step - loss: 0.5320 - accuracy: 0.8108 - val_loss: 0.3513 - val_accuracy: 0.8708\n",
            "Epoch 2/1000\n",
            "1500/1500 [==============================] - 57s 38ms/step - loss: 0.3480 - accuracy: 0.8762 - val_loss: 0.2968 - val_accuracy: 0.8934\n",
            "Epoch 3/1000\n",
            "1500/1500 [==============================] - 58s 39ms/step - loss: 0.3001 - accuracy: 0.8918 - val_loss: 0.2686 - val_accuracy: 0.9019\n",
            "Epoch 4/1000\n",
            "1500/1500 [==============================] - 56s 38ms/step - loss: 0.2666 - accuracy: 0.9034 - val_loss: 0.2461 - val_accuracy: 0.9083\n",
            "Epoch 5/1000\n",
            "1500/1500 [==============================] - 56s 38ms/step - loss: 0.2415 - accuracy: 0.9115 - val_loss: 0.2372 - val_accuracy: 0.9100\n",
            "Epoch 6/1000\n",
            "1500/1500 [==============================] - 56s 38ms/step - loss: 0.2200 - accuracy: 0.9190 - val_loss: 0.2314 - val_accuracy: 0.9117\n",
            "Epoch 7/1000\n",
            "1500/1500 [==============================] - 56s 37ms/step - loss: 0.2072 - accuracy: 0.9239 - val_loss: 0.2326 - val_accuracy: 0.9151\n",
            "Epoch 8/1000\n",
            "1500/1500 [==============================] - 56s 37ms/step - loss: 0.1870 - accuracy: 0.9300 - val_loss: 0.2505 - val_accuracy: 0.9116\n",
            "Epoch 9/1000\n",
            "1500/1500 [==============================] - 56s 37ms/step - loss: 0.1771 - accuracy: 0.9334 - val_loss: 0.2427 - val_accuracy: 0.9187\n",
            "Epoch 10/1000\n",
            "1500/1500 [==============================] - 56s 37ms/step - loss: 0.1635 - accuracy: 0.9380 - val_loss: 0.2307 - val_accuracy: 0.9218\n",
            "Epoch 11/1000\n",
            "1500/1500 [==============================] - 56s 37ms/step - loss: 0.1507 - accuracy: 0.9440 - val_loss: 0.2553 - val_accuracy: 0.9144\n",
            "Epoch 12/1000\n",
            "1500/1500 [==============================] - 56s 37ms/step - loss: 0.1419 - accuracy: 0.9469 - val_loss: 0.2460 - val_accuracy: 0.9228\n",
            "Epoch 13/1000\n",
            "1500/1500 [==============================] - 56s 37ms/step - loss: 0.1329 - accuracy: 0.9492 - val_loss: 0.2471 - val_accuracy: 0.9191\n",
            "Epoch 14/1000\n",
            "1500/1500 [==============================] - 56s 37ms/step - loss: 0.1259 - accuracy: 0.9506 - val_loss: 0.2453 - val_accuracy: 0.9252\n",
            "Epoch 15/1000\n",
            "1500/1500 [==============================] - 56s 37ms/step - loss: 0.1182 - accuracy: 0.9543 - val_loss: 0.2577 - val_accuracy: 0.9231\n"
          ]
        }
      ]
    },
    {
      "cell_type": "code",
      "source": [
        "model.summary()"
      ],
      "metadata": {
        "colab": {
          "base_uri": "https://localhost:8080/"
        },
        "id": "7_V46QzPYjtA",
        "outputId": "b15e0264-a918-406b-d4bc-1f02c8829ee0"
      },
      "execution_count": 6,
      "outputs": [
        {
          "output_type": "stream",
          "name": "stdout",
          "text": [
            "Model: \"sequential\"\n",
            "_________________________________________________________________\n",
            " Layer (type)                Output Shape              Param #   \n",
            "=================================================================\n",
            " conv2d (Conv2D)             (None, 28, 28, 32)        320       \n",
            "                                                                 \n",
            " max_pooling2d (MaxPooling2D  (None, 14, 14, 32)       0         \n",
            " )                                                               \n",
            "                                                                 \n",
            " conv2d_1 (Conv2D)           (None, 14, 14, 64)        18496     \n",
            "                                                                 \n",
            " max_pooling2d_1 (MaxPooling  (None, 7, 7, 64)         0         \n",
            " 2D)                                                             \n",
            "                                                                 \n",
            " flatten (Flatten)           (None, 3136)              0         \n",
            "                                                                 \n",
            " dense (Dense)               (None, 100)               313700    \n",
            "                                                                 \n",
            " dropout (Dropout)           (None, 100)               0         \n",
            "                                                                 \n",
            " dense_1 (Dense)             (None, 10)                1010      \n",
            "                                                                 \n",
            "=================================================================\n",
            "Total params: 333,526\n",
            "Trainable params: 333,526\n",
            "Non-trainable params: 0\n",
            "_________________________________________________________________\n"
          ]
        }
      ]
    },
    {
      "cell_type": "code",
      "source": [
        "model.evaluate(test_scaled, test_target)"
      ],
      "metadata": {
        "colab": {
          "base_uri": "https://localhost:8080/"
        },
        "id": "EJsJXe_9bCd6",
        "outputId": "3001379f-6a6d-4255-95f4-af75bcac2bb1"
      },
      "execution_count": 7,
      "outputs": [
        {
          "output_type": "stream",
          "name": "stdout",
          "text": [
            "313/313 [==============================] - 4s 11ms/step - loss: 0.2453 - accuracy: 0.9203\n"
          ]
        },
        {
          "output_type": "execute_result",
          "data": {
            "text/plain": [
              "[0.24530896544456482, 0.9203000068664551]"
            ]
          },
          "metadata": {},
          "execution_count": 7
        }
      ]
    },
    {
      "cell_type": "code",
      "source": [
        "import matplotlib.pyplot as plt\n",
        "plt.plot(history.history['loss'])\n",
        "plt.plot(history.history['val_loss'])"
      ],
      "metadata": {
        "colab": {
          "base_uri": "https://localhost:8080/",
          "height": 284
        },
        "id": "uhTNvk2Tfmy2",
        "outputId": "eed17d02-0a66-48e0-a87c-ceea4429817a"
      },
      "execution_count": 9,
      "outputs": [
        {
          "output_type": "execute_result",
          "data": {
            "text/plain": [
              "[<matplotlib.lines.Line2D at 0x7fc3c7846410>]"
            ]
          },
          "metadata": {},
          "execution_count": 9
        },
        {
          "output_type": "display_data",
          "data": {
            "image/png": "[encoded data removed]",
            "text/plain": [
              "<Figure size 432x288 with 1 Axes>"
            ]
          },
          "metadata": {
            "needs_background": "light"
          }
        }
      ]
    },
    {
      "cell_type": "code",
      "source": [
        "keras.utils.plot_model(model)"
      ],
      "metadata": {
        "colab": {
          "base_uri": "https://localhost:8080/",
          "height": 856
        },
        "id": "6ZnXcm0afsr5",
        "outputId": "a1a889e7-395c-47ce-96c3-e88c538abf3f"
      },
      "execution_count": 98,
      "outputs": [
        {
          "output_type": "execute_result",
          "data": {
            "image/png": "[encoded data removed]",
            "text/plain": [
              "<IPython.core.display.Image object>"
            ]
          },
          "metadata": {},
          "execution_count": 98
        }
      ]
    },
    {
      "cell_type": "code",
      "source": [
        "keras.utils.plot_model(model, show_shapes=True)"
      ],
      "metadata": {
        "colab": {
          "base_uri": "https://localhost:8080/",
          "height": 976
        },
        "id": "3eUURt30hI9d",
        "outputId": "1b045a99-8f26-44fc-da89-5dab5212f7c6"
      },
      "execution_count": 99,
      "outputs": [
        {
          "output_type": "execute_result",
          "data": {
            "image/png": "[encoded data removed]",
            "text/plain": [
              "<IPython.core.display.Image object>"
            ]
          },
          "metadata": {},
          "execution_count": 99
        }
      ]
    },
    {
      "cell_type": "code",
      "source": [
        "plt.imshow(val_scaled[0].reshape(28, 28), cmap = 'gray_r')"
      ],
      "metadata": {
        "colab": {
          "base_uri": "https://localhost:8080/",
          "height": 284
        },
        "id": "RuwV6FnlhTLQ",
        "outputId": "b701cc15-8eda-466a-ac27-98c6a3acbe0e"
      },
      "execution_count": 10,
      "outputs": [
        {
          "output_type": "execute_result",
          "data": {
            "text/plain": [
              "<matplotlib.image.AxesImage at 0x7fc3c736eb90>"
            ]
          },
          "metadata": {},
          "execution_count": 10
        },
        {
          "output_type": "display_data",
          "data": {
            "image/png": "[encoded data removed]",
            "text/plain": [
              "<Figure size 432x288 with 1 Axes>"
            ]
          },
          "metadata": {
            "needs_background": "light"
          }
        }
      ]
    },
    {
      "cell_type": "code",
      "source": [
        "model.predict(val_scaled[0].reshape(1, 28, 28, 1))"
      ],
      "metadata": {
        "colab": {
          "base_uri": "https://localhost:8080/"
        },
        "id": "zvi6ebcohnrA",
        "outputId": "3f0b7be3-df1b-48de-8058-53af54f6cce2"
      },
      "execution_count": 11,
      "outputs": [
        {
          "output_type": "execute_result",
          "data": {
            "text/plain": [
              "array([[1.3200956e-06, 2.2488391e-12, 7.0197287e-10, 8.9905804e-08,\n",
              "        8.7652309e-11, 1.6083645e-06, 2.4309134e-07, 2.1992400e-01,\n",
              "        4.1295007e-08, 7.8007275e-01]], dtype=float32)"
            ]
          },
          "metadata": {},
          "execution_count": 11
        }
      ]
    },
    {
      "cell_type": "code",
      "source": [
        "plt.bar(range(1, 11), model.predict(val_scaled[0].reshape(1, 28, 28, 1))[0])\n",
        "plt.xlabel('class')\n",
        "plt.ylabel('prob')\n",
        "plt.show()"
      ],
      "metadata": {
        "colab": {
          "base_uri": "https://localhost:8080/",
          "height": 279
        },
        "id": "XlyOZaoKhtpG",
        "outputId": "c06896af-62af-45c5-c9eb-3ce8651337f8"
      },
      "execution_count": 12,
      "outputs": [
        {
          "output_type": "display_data",
          "data": {
            "image/png": "[encoded data removed]",
            "text/plain": [
              "<Figure size 432x288 with 1 Axes>"
            ]
          },
          "metadata": {
            "needs_background": "light"
          }
        }
      ]
    },
    {
      "cell_type": "code",
      "source": [
        "classes = ['티셔츠', '바지', '스웨터', '드레스', '코트', '샌달', '셔츠', '스니커즈', '가방', '앵클부츠']\n",
        "classes[np.argmax(model.predict(val_scaled[0].reshape(1, 28, 28, 1)))]"
      ],
      "metadata": {
        "colab": {
          "base_uri": "https://localhost:8080/",
          "height": 36
        },
        "id": "CX3s9HVJiacR",
        "outputId": "9c815da7-ef8c-41dc-a20b-afadfc1905c5"
      },
      "execution_count": 13,
      "outputs": [
        {
          "output_type": "execute_result",
          "data": {
            "application/vnd.google.colaboratory.intrinsic+json": {
              "type": "string"
            },
            "text/plain": [
              "'앵클부츠'"
            ]
          },
          "metadata": {},
          "execution_count": 13
        }
      ]
    },
    {
      "cell_type": "code",
      "source": [
        "# 이미지 딥러닝\n",
        "# RNN : 시계열 데이터\n",
        "\n",
        "model.layers"
      ],
      "metadata": {
        "colab": {
          "base_uri": "https://localhost:8080/"
        },
        "id": "EbvcW35Yit1E",
        "outputId": "3d5ff9da-2160-48d8-c345-b66c9210c4db"
      },
      "execution_count": 14,
      "outputs": [
        {
          "output_type": "execute_result",
          "data": {
            "text/plain": [
              "[<keras.layers.convolutional.Conv2D at 0x7fc3cb3c7310>,\n",
              " <keras.layers.pooling.MaxPooling2D at 0x7fc3cd6cbf90>,\n",
              " <keras.layers.convolutional.Conv2D at 0x7fc3cc28c9d0>,\n",
              " <keras.layers.pooling.MaxPooling2D at 0x7fc3c7b6d6d0>,\n",
              " <keras.layers.core.flatten.Flatten at 0x7fc3c7b1ced0>,\n",
              " <keras.layers.core.dense.Dense at 0x7fc3cb3f4090>,\n",
              " <keras.layers.core.dropout.Dropout at 0x7fc3c7b1cad0>,\n",
              " <keras.layers.core.dense.Dense at 0x7fc3c7abc7d0>]"
            ]
          },
          "metadata": {},
          "execution_count": 14
        }
      ]
    },
    {
      "cell_type": "code",
      "source": [
        "conv = model.layers[0]\n",
        "print(conv.weights[0].shape, conv.weights[1].shape)"
      ],
      "metadata": {
        "colab": {
          "base_uri": "https://localhost:8080/"
        },
        "id": "wc6uYTbMj95f",
        "outputId": "d9932fef-ce93-45a3-ba6f-e7c10a5027d4"
      },
      "execution_count": 15,
      "outputs": [
        {
          "output_type": "stream",
          "name": "stdout",
          "text": [
            "(3, 3, 1, 32) (32,)\n"
          ]
        }
      ]
    },
    {
      "cell_type": "code",
      "source": [
        "conv_weights = conv.weights[0].numpy()\n",
        "print(conv_weights.mean(), conv_weights.std())"
      ],
      "metadata": {
        "colab": {
          "base_uri": "https://localhost:8080/"
        },
        "id": "hK2tgRHMkHgL",
        "outputId": "5215e567-7ee1-48dc-8f7b-fb8bdb2b288e"
      },
      "execution_count": 16,
      "outputs": [
        {
          "output_type": "stream",
          "name": "stdout",
          "text": [
            "-0.029310925 0.27559254\n"
          ]
        }
      ]
    },
    {
      "cell_type": "code",
      "source": [
        "plt.hist(conv_weights.reshape(-1, 1))"
      ],
      "metadata": {
        "colab": {
          "base_uri": "https://localhost:8080/",
          "height": 361
        },
        "id": "4e9d1-Ipkwgk",
        "outputId": "30864802-6ba0-4063-9278-cf8ba9368f3e"
      },
      "execution_count": 17,
      "outputs": [
        {
          "output_type": "execute_result",
          "data": {
            "text/plain": [
              "(array([ 2.,  2.,  2.,  1.,  3., 22., 72., 96., 75., 13.]),\n",
              " array([-1.5119642 , -1.3093562 , -1.1067481 , -0.9041401 , -0.7015321 ,\n",
              "        -0.49892408, -0.29631606, -0.09370802,  0.1089    ,  0.31150803,\n",
              "         0.51411605], dtype=float32),\n",
              " <a list of 10 Patch objects>)"
            ]
          },
          "metadata": {},
          "execution_count": 17
        },
        {
          "output_type": "display_data",
          "data": {
            "image/png": "[encoded data removed]",
            "text/plain": [
              "<Figure size 432x288 with 1 Axes>"
            ]
          },
          "metadata": {
            "needs_background": "light"
          }
        }
      ]
    },
    {
      "cell_type": "code",
      "source": [
        "fig, axs = plt.subplots(2, 16, figsize = (15, 2))\n",
        "\n",
        "for i in range(2):\n",
        "  for j in range(16):\n",
        "    axs[i,j].imshow(conv_weights[:, :, 0, i*16 + j], vmin = -0.5, vmax = 0.5)\n",
        "    axs[i,j].axis('off')\n",
        "\n",
        "plt.show()"
      ],
      "metadata": {
        "colab": {
          "base_uri": "https://localhost:8080/",
          "height": 134
        },
        "id": "zC3cjdTVlCSx",
        "outputId": "7b5016bc-7052-400d-c2ad-ce7381ede4f8"
      },
      "execution_count": 18,
      "outputs": [
        {
          "output_type": "display_data",
          "data": {
            "image/png": "[encoded data removed]",
            "text/plain": [
              "<Figure size 1080x144 with 32 Axes>"
            ]
          },
          "metadata": {
            "needs_background": "light"
          }
        }
      ]
    },
    {
      "cell_type": "code",
      "source": [
        "plt.imshow(train_input[0], cmap = 'gray_r')"
      ],
      "metadata": {
        "colab": {
          "base_uri": "https://localhost:8080/",
          "height": 284
        },
        "id": "JQ_sKUWClf0F",
        "outputId": "ae6f49de-e957-47f7-9b51-cfd4fa7656e4"
      },
      "execution_count": 19,
      "outputs": [
        {
          "output_type": "execute_result",
          "data": {
            "text/plain": [
              "<matplotlib.image.AxesImage at 0x7fc3c328af90>"
            ]
          },
          "metadata": {},
          "execution_count": 19
        },
        {
          "output_type": "display_data",
          "data": {
            "image/png": "[encoded data removed]",
            "text/plain": [
              "<Figure size 432x288 with 1 Axes>"
            ]
          },
          "metadata": {
            "needs_background": "light"
          }
        }
      ]
    },
    {
      "cell_type": "code",
      "source": [
        "conv_acti = keras.models.Model(model.input, model.layers[0].output)\n",
        "inputs = train_input[:1].reshape(-1, 28, 28, 1) / 255\n",
        "feature_maps = conv_acti.predict(inputs)\n",
        "feature_maps.shape"
      ],
      "metadata": {
        "colab": {
          "base_uri": "https://localhost:8080/"
        },
        "id": "H5tI6qTVm7xg",
        "outputId": "c1fd6008-48f0-4132-cc83-34fdbbac40ae"
      },
      "execution_count": 20,
      "outputs": [
        {
          "output_type": "execute_result",
          "data": {
            "text/plain": [
              "(1, 28, 28, 32)"
            ]
          },
          "metadata": {},
          "execution_count": 20
        }
      ]
    },
    {
      "cell_type": "code",
      "source": [
        "fig, axs = plt.subplots(4, 8, figsize = (15, 8))\n",
        "\n",
        "for i in range(4):\n",
        "  for j in range(8):\n",
        "    axs[i,j].imshow(feature_maps[0, :, :, i*8+j])\n",
        "    axs[i,j].axis('off')\n",
        "\n",
        "plt.show()"
      ],
      "metadata": {
        "colab": {
          "base_uri": "https://localhost:8080/",
          "height": 460
        },
        "id": "jwjFdpMxnUTN",
        "outputId": "73cdfd13-ca30-44e5-8dab-f3680dec45c7"
      },
      "execution_count": 22,
      "outputs": [
        {
          "output_type": "display_data",
          "data": {
            "image/png": "[encoded data removed]",
            "text/plain": [
              "<Figure size 1080x576 with 32 Axes>"
            ]
          },
          "metadata": {
            "needs_background": "light"
          }
        }
      ]
    },
    {
      "cell_type": "code",
      "source": [
        "conv2_acti = keras.models.Model(model.input, model.layers[2].output)\n",
        "\n",
        "inputs = train_input[:1].reshape(-1, 28, 28, 1) / 255\n",
        "feture_maps = conv2_acti.predict(inputs)"
      ],
      "metadata": {
        "id": "yrRh1EFLr2EK"
      },
      "execution_count": 25,
      "outputs": []
    },
    {
      "cell_type": "code",
      "source": [
        "feture_maps.shape"
      ],
      "metadata": {
        "colab": {
          "base_uri": "https://localhost:8080/"
        },
        "id": "sxaZ8ximsn60",
        "outputId": "82d40829-b3c5-4167-ffe7-2be919c41924"
      },
      "execution_count": 26,
      "outputs": [
        {
          "output_type": "execute_result",
          "data": {
            "text/plain": [
              "(1, 14, 14, 64)"
            ]
          },
          "metadata": {},
          "execution_count": 26
        }
      ]
    },
    {
      "cell_type": "code",
      "source": [
        "fig, axs = plt.subplots(8, 8, figsize = (12, 12))\n",
        "\n",
        "for i in range(8):\n",
        "  for j in range(8):\n",
        "    axs[i,j].imshow(feture_maps[0, :, :, i*8+j])\n",
        "    axs[i,j].axis('off')\n",
        "\n",
        "plt.show()"
      ],
      "metadata": {
        "colab": {
          "base_uri": "https://localhost:8080/",
          "height": 683
        },
        "id": "k4Tp8bQBsqJG",
        "outputId": "b627099e-b5a2-4d8c-fec2-4952496fc6bf"
      },
      "execution_count": 27,
      "outputs": [
        {
          "output_type": "display_data",
          "data": {
            "image/png": "[encoded data removed]",
            "text/plain": [
              "<Figure size 864x864 with 64 Axes>"
            ]
          },
          "metadata": {
            "needs_background": "light"
          }
        }
      ]
    },
    {
      "cell_type": "code",
      "source": [
        "from tensorflow.keras.datasets import imdb"
      ],
      "metadata": {
        "id": "Z0pxIm_WtmlK"
      },
      "execution_count": 28,
      "outputs": []
    },
    {
      "cell_type": "code",
      "source": [
        "(train_input, train_target), (test_input, test_target) = imdb.load_data(num_words = 500) # 가장 빈도높은 단어 500개만"
      ],
      "metadata": {
        "colab": {
          "base_uri": "https://localhost:8080/"
        },
        "id": "qi495TLjxAMa",
        "outputId": "84b93b3b-bfd6-40c3-a92a-1ebb9bcd7cd2"
      },
      "execution_count": 29,
      "outputs": [
        {
          "output_type": "stream",
          "name": "stdout",
          "text": [
            "Downloading data from https://storage.googleapis.com/tensorflow/tf-keras-datasets/imdb.npz\n",
            "17465344/17464789 [==============================] - 0s 0us/step\n",
            "17473536/17464789 [==============================] - 0s 0us/step\n"
          ]
        }
      ]
    },
    {
      "cell_type": "code",
      "source": [
        "train_input.shape"
      ],
      "metadata": {
        "colab": {
          "base_uri": "https://localhost:8080/"
        },
        "id": "EyH-xNXWxHd7",
        "outputId": "a35a0c54-0355-45ed-8608-54ddec097b63"
      },
      "execution_count": 30,
      "outputs": [
        {
          "output_type": "execute_result",
          "data": {
            "text/plain": [
              "(25000,)"
            ]
          },
          "metadata": {},
          "execution_count": 30
        }
      ]
    },
    {
      "cell_type": "code",
      "source": [
        "test_input.shape"
      ],
      "metadata": {
        "colab": {
          "base_uri": "https://localhost:8080/"
        },
        "id": "zMSEVuB7xwQR",
        "outputId": "8222d0a6-df08-4028-fd00-ce1b48b6d5fb"
      },
      "execution_count": 31,
      "outputs": [
        {
          "output_type": "execute_result",
          "data": {
            "text/plain": [
              "(25000,)"
            ]
          },
          "metadata": {},
          "execution_count": 31
        }
      ]
    },
    {
      "cell_type": "code",
      "source": [
        "train_input[0] # 빈도높은단어 500개만 // 500등안에 못든단어는 모두 2"
      ],
      "metadata": {
        "colab": {
          "base_uri": "https://localhost:8080/"
        },
        "id": "aErneYRaxzDf",
        "outputId": "58feb9ba-db4b-4bc0-b228-fc544044d247"
      },
      "execution_count": 32,
      "outputs": [
        {
          "output_type": "execute_result",
          "data": {
            "text/plain": [
              "[1,\n",
              " 14,\n",
              " 22,\n",
              " 16,\n",
              " 43,\n",
              " 2,\n",
              " 2,\n",
              " 2,\n",
              " 2,\n",
              " 65,\n",
              " 458,\n",
              " 2,\n",
              " 66,\n",
              " 2,\n",
              " 4,\n",
              " 173,\n",
              " 36,\n",
              " 256,\n",
              " 5,\n",
              " 25,\n",
              " 100,\n",
              " 43,\n",
              " 2,\n",
              " 112,\n",
              " 50,\n",
              " 2,\n",
              " 2,\n",
              " 9,\n",
              " 35,\n",
              " 480,\n",
              " 284,\n",
              " 5,\n",
              " 150,\n",
              " 4,\n",
              " 172,\n",
              " 112,\n",
              " 167,\n",
              " 2,\n",
              " 336,\n",
              " 385,\n",
              " 39,\n",
              " 4,\n",
              " 172,\n",
              " 2,\n",
              " 2,\n",
              " 17,\n",
              " 2,\n",
              " 38,\n",
              " 13,\n",
              " 447,\n",
              " 4,\n",
              " 192,\n",
              " 50,\n",
              " 16,\n",
              " 6,\n",
              " 147,\n",
              " 2,\n",
              " 19,\n",
              " 14,\n",
              " 22,\n",
              " 4,\n",
              " 2,\n",
              " 2,\n",
              " 469,\n",
              " 4,\n",
              " 22,\n",
              " 71,\n",
              " 87,\n",
              " 12,\n",
              " 16,\n",
              " 43,\n",
              " 2,\n",
              " 38,\n",
              " 76,\n",
              " 15,\n",
              " 13,\n",
              " 2,\n",
              " 4,\n",
              " 22,\n",
              " 17,\n",
              " 2,\n",
              " 17,\n",
              " 12,\n",
              " 16,\n",
              " 2,\n",
              " 18,\n",
              " 2,\n",
              " 5,\n",
              " 62,\n",
              " 386,\n",
              " 12,\n",
              " 8,\n",
              " 316,\n",
              " 8,\n",
              " 106,\n",
              " 5,\n",
              " 4,\n",
              " 2,\n",
              " 2,\n",
              " 16,\n",
              " 480,\n",
              " 66,\n",
              " 2,\n",
              " 33,\n",
              " 4,\n",
              " 130,\n",
              " 12,\n",
              " 16,\n",
              " 38,\n",
              " 2,\n",
              " 5,\n",
              " 25,\n",
              " 124,\n",
              " 51,\n",
              " 36,\n",
              " 135,\n",
              " 48,\n",
              " 25,\n",
              " 2,\n",
              " 33,\n",
              " 6,\n",
              " 22,\n",
              " 12,\n",
              " 215,\n",
              " 28,\n",
              " 77,\n",
              " 52,\n",
              " 5,\n",
              " 14,\n",
              " 407,\n",
              " 16,\n",
              " 82,\n",
              " 2,\n",
              " 8,\n",
              " 4,\n",
              " 107,\n",
              " 117,\n",
              " 2,\n",
              " 15,\n",
              " 256,\n",
              " 4,\n",
              " 2,\n",
              " 7,\n",
              " 2,\n",
              " 5,\n",
              " 2,\n",
              " 36,\n",
              " 71,\n",
              " 43,\n",
              " 2,\n",
              " 476,\n",
              " 26,\n",
              " 400,\n",
              " 317,\n",
              " 46,\n",
              " 7,\n",
              " 4,\n",
              " 2,\n",
              " 2,\n",
              " 13,\n",
              " 104,\n",
              " 88,\n",
              " 4,\n",
              " 381,\n",
              " 15,\n",
              " 297,\n",
              " 98,\n",
              " 32,\n",
              " 2,\n",
              " 56,\n",
              " 26,\n",
              " 141,\n",
              " 6,\n",
              " 194,\n",
              " 2,\n",
              " 18,\n",
              " 4,\n",
              " 226,\n",
              " 22,\n",
              " 21,\n",
              " 134,\n",
              " 476,\n",
              " 26,\n",
              " 480,\n",
              " 5,\n",
              " 144,\n",
              " 30,\n",
              " 2,\n",
              " 18,\n",
              " 51,\n",
              " 36,\n",
              " 28,\n",
              " 224,\n",
              " 92,\n",
              " 25,\n",
              " 104,\n",
              " 4,\n",
              " 226,\n",
              " 65,\n",
              " 16,\n",
              " 38,\n",
              " 2,\n",
              " 88,\n",
              " 12,\n",
              " 16,\n",
              " 283,\n",
              " 5,\n",
              " 16,\n",
              " 2,\n",
              " 113,\n",
              " 103,\n",
              " 32,\n",
              " 15,\n",
              " 16,\n",
              " 2,\n",
              " 19,\n",
              " 178,\n",
              " 32]"
            ]
          },
          "metadata": {},
          "execution_count": 32
        }
      ]
    },
    {
      "cell_type": "code",
      "source": [
        "len(train_input[2])"
      ],
      "metadata": {
        "colab": {
          "base_uri": "https://localhost:8080/"
        },
        "id": "ZRrPk7bXx001",
        "outputId": "6bc42743-bad8-4335-f715-26c43e7d11ad"
      },
      "execution_count": 35,
      "outputs": [
        {
          "output_type": "execute_result",
          "data": {
            "text/plain": [
              "141"
            ]
          },
          "metadata": {},
          "execution_count": 35
        }
      ]
    },
    {
      "cell_type": "code",
      "source": [
        "train_target # 1 긍정적인 리뷰 0 부정적인 리뷰"
      ],
      "metadata": {
        "colab": {
          "base_uri": "https://localhost:8080/"
        },
        "id": "sGALF_NDyGUb",
        "outputId": "83ca15bb-acad-4796-e8a8-76a550469199"
      },
      "execution_count": 36,
      "outputs": [
        {
          "output_type": "execute_result",
          "data": {
            "text/plain": [
              "array([1, 0, 0, ..., 0, 1, 0])"
            ]
          },
          "metadata": {},
          "execution_count": 36
        }
      ]
    },
    {
      "cell_type": "code",
      "source": [
        "train_input, val_input, train_target, val_target = train_test_split(train_input, train_target, test_size = 0.2)"
      ],
      "metadata": {
        "id": "9Zl8DQTHyOfW"
      },
      "execution_count": 37,
      "outputs": []
    },
    {
      "cell_type": "code",
      "source": [
        "# 리뷰 길이가 다 다른데 어떡하나 -> 잘라야됩니다.\n",
        "\n",
        "from tensorflow.keras.preprocessing.sequence import pad_sequences"
      ],
      "metadata": {
        "id": "ONP0UpE-yXqs"
      },
      "execution_count": 39,
      "outputs": []
    },
    {
      "cell_type": "code",
      "source": [
        "train_seq = pad_sequences(train_input, maxlen = 100, ) # 뒷부분 자르고 싶으면 : truncating='post'\n",
        "val_seq = pad_sequences(val_input, maxlen = 100)\n",
        "test_seq = pad_sequences(test_input, maxlen = 100)"
      ],
      "metadata": {
        "id": "XMqTjuTnyv9S"
      },
      "execution_count": 40,
      "outputs": []
    },
    {
      "cell_type": "code",
      "source": [
        "train_seq.shape"
      ],
      "metadata": {
        "colab": {
          "base_uri": "https://localhost:8080/"
        },
        "id": "4mEb5gyMzHT-",
        "outputId": "64d3f40f-a5e7-4284-805b-dcddb4105372"
      },
      "execution_count": 41,
      "outputs": [
        {
          "output_type": "execute_result",
          "data": {
            "text/plain": [
              "(20000, 100)"
            ]
          },
          "metadata": {},
          "execution_count": 41
        }
      ]
    },
    {
      "cell_type": "code",
      "source": [
        "model = keras.Sequential()\n",
        "model.add(keras.layers.SimpleRNN(8, input_shape = (100, 500)))\n",
        "model.add(keras.layers.Dense(1, activation = 'sigmoid'))"
      ],
      "metadata": {
        "id": "OmB-yb36zJzA"
      },
      "execution_count": 42,
      "outputs": []
    },
    {
      "cell_type": "code",
      "source": [
        "train_oh = keras.utils.to_categorical(train_seq)\n",
        "val_oh = keras.utils.to_categorical(val_seq)\n",
        "test_oh = keras.utils.to_categorical(test_seq)"
      ],
      "metadata": {
        "id": "xfwHq3DWzyh_"
      },
      "execution_count": 43,
      "outputs": []
    },
    {
      "cell_type": "code",
      "source": [
        "train_seq[0]"
      ],
      "metadata": {
        "colab": {
          "base_uri": "https://localhost:8080/"
        },
        "id": "pDa-PYBK0DeC",
        "outputId": "e8ec9b0c-4595-4b46-91f7-f60eab018dc4"
      },
      "execution_count": 44,
      "outputs": [
        {
          "output_type": "execute_result",
          "data": {
            "text/plain": [
              "array([  2, 471,  19,  90,  95,   7, 265,   2,   4, 130,   4,   2,   2,\n",
              "         5, 225,   4,   2,   2,  57, 147,   2,   2,  40,   4,  22,   2,\n",
              "        21,  43, 160,   2, 114,   2,   8,   2,   4,  65, 367,   2,  36,\n",
              "        93,   6,   2,   5,   2,   5,  32,   4, 360,   7,   4, 177, 385,\n",
              "       145,  13, 440,  36, 188,   2,   6, 176,   7,   2,  88,  14,  86,\n",
              "        22,   9, 184,  78,   4,   2,   2,  12,   2,   5,   2,   2,   7,\n",
              "       101,   2,  97,  12,  33, 211,   2,  55,  78,  22,  21,  13, 188,\n",
              "         8,   2,  15,  13, 181,   8,  67,   4,   2], dtype=int32)"
            ]
          },
          "metadata": {},
          "execution_count": 44
        }
      ]
    },
    {
      "cell_type": "code",
      "source": [
        "train_oh[0]"
      ],
      "metadata": {
        "colab": {
          "base_uri": "https://localhost:8080/"
        },
        "id": "dj6g_wcK0G2i",
        "outputId": "363a1ba1-0fe3-48b4-874f-a9f92eb6314b"
      },
      "execution_count": 46,
      "outputs": [
        {
          "output_type": "execute_result",
          "data": {
            "text/plain": [
              "array([[0., 0., 1., ..., 0., 0., 0.],\n",
              "       [0., 0., 0., ..., 0., 0., 0.],\n",
              "       [0., 0., 0., ..., 0., 0., 0.],\n",
              "       ...,\n",
              "       [0., 0., 0., ..., 0., 0., 0.],\n",
              "       [0., 0., 0., ..., 0., 0., 0.],\n",
              "       [0., 0., 1., ..., 0., 0., 0.]], dtype=float32)"
            ]
          },
          "metadata": {},
          "execution_count": 46
        }
      ]
    },
    {
      "cell_type": "code",
      "source": [
        "checkpoint = keras.callbacks.ModelCheckpoint('best.h5')\n",
        "early_stopping = keras.callbacks.EarlyStopping(patience=5, restore_best_weights=True)\n",
        "\n",
        "model.compile(loss = 'binary_crossentropy', metrics = 'accuracy', optimizer='adam')\n",
        "\n",
        "history = model.fit(train_oh, train_target, validation_data = (val_oh, val_target), epochs=10000, callbacks=[checkpoint, early_stopping])"
      ],
      "metadata": {
        "colab": {
          "base_uri": "https://localhost:8080/"
        },
        "id": "MNyzustt0WuM",
        "outputId": "10296599-4ee7-4eef-8f38-a506b26e9a13"
      },
      "execution_count": 47,
      "outputs": [
        {
          "output_type": "stream",
          "name": "stdout",
          "text": [
            "Epoch 1/10000\n",
            "625/625 [==============================] - 28s 43ms/step - loss: 0.6904 - accuracy: 0.5301 - val_loss: 0.6848 - val_accuracy: 0.5484\n",
            "Epoch 2/10000\n",
            "625/625 [==============================] - 15s 25ms/step - loss: 0.6704 - accuracy: 0.5867 - val_loss: 0.6666 - val_accuracy: 0.5882\n",
            "Epoch 3/10000\n",
            "625/625 [==============================] - 14s 23ms/step - loss: 0.6132 - accuracy: 0.6652 - val_loss: 0.5623 - val_accuracy: 0.7250\n",
            "Epoch 4/10000\n",
            "625/625 [==============================] - 15s 23ms/step - loss: 0.5043 - accuracy: 0.7591 - val_loss: 0.5157 - val_accuracy: 0.7580\n",
            "Epoch 5/10000\n",
            "625/625 [==============================] - 15s 23ms/step - loss: 0.4679 - accuracy: 0.7846 - val_loss: 0.5099 - val_accuracy: 0.7668\n",
            "Epoch 6/10000\n",
            "625/625 [==============================] - 14s 23ms/step - loss: 0.4475 - accuracy: 0.7965 - val_loss: 0.4846 - val_accuracy: 0.7726\n",
            "Epoch 7/10000\n",
            "625/625 [==============================] - 14s 23ms/step - loss: 0.4293 - accuracy: 0.8063 - val_loss: 0.4861 - val_accuracy: 0.7678\n",
            "Epoch 8/10000\n",
            "625/625 [==============================] - 14s 23ms/step - loss: 0.4255 - accuracy: 0.8084 - val_loss: 0.4924 - val_accuracy: 0.7736\n",
            "Epoch 9/10000\n",
            "625/625 [==============================] - 14s 23ms/step - loss: 0.4098 - accuracy: 0.8177 - val_loss: 0.4844 - val_accuracy: 0.7800\n",
            "Epoch 10/10000\n",
            "625/625 [==============================] - 15s 23ms/step - loss: 0.4099 - accuracy: 0.8180 - val_loss: 0.4939 - val_accuracy: 0.7762\n",
            "Epoch 11/10000\n",
            "625/625 [==============================] - 15s 24ms/step - loss: 0.4045 - accuracy: 0.8225 - val_loss: 0.5158 - val_accuracy: 0.7604\n",
            "Epoch 12/10000\n",
            "625/625 [==============================] - 15s 24ms/step - loss: 0.3980 - accuracy: 0.8263 - val_loss: 0.5051 - val_accuracy: 0.7676\n",
            "Epoch 13/10000\n",
            "625/625 [==============================] - 15s 23ms/step - loss: 0.3892 - accuracy: 0.8287 - val_loss: 0.5007 - val_accuracy: 0.7744\n",
            "Epoch 14/10000\n",
            "625/625 [==============================] - 15s 23ms/step - loss: 0.3911 - accuracy: 0.8283 - val_loss: 0.4935 - val_accuracy: 0.7626\n"
          ]
        }
      ]
    },
    {
      "cell_type": "code",
      "source": [
        "import matplotlib.pyplot as plt\n",
        "\n",
        "plt.plot(history.history['loss'])\n",
        "plt.plot(history.history['val_loss'])"
      ],
      "metadata": {
        "colab": {
          "base_uri": "https://localhost:8080/",
          "height": 285
        },
        "id": "qF16sndz1C2S",
        "outputId": "37cf04d1-e5ae-4f20-c796-31cfd959e9f4"
      },
      "execution_count": 48,
      "outputs": [
        {
          "output_type": "execute_result",
          "data": {
            "text/plain": [
              "[<matplotlib.lines.Line2D at 0x7fc3be08fb50>]"
            ]
          },
          "metadata": {},
          "execution_count": 48
        },
        {
          "output_type": "display_data",
          "data": {
            "image/png": "[encoded data removed]",
            "text/plain": [
              "<Figure size 432x288 with 1 Axes>"
            ]
          },
          "metadata": {
            "needs_background": "light"
          }
        }
      ]
    },
    {
      "cell_type": "code",
      "source": [
        ""
      ],
      "metadata": {
        "id": "C6aBdbEu2DfM"
      },
      "execution_count": null,
      "outputs": []
    }
  ]
}